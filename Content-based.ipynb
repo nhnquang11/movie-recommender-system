{
 "cells": [
  {
   "cell_type": "markdown",
   "metadata": {},
   "source": [
    "# Content-based"
   ]
  },
  {
   "cell_type": "code",
   "execution_count": 18,
   "metadata": {
    "scrolled": true
   },
   "outputs": [
    {
     "name": "stdout",
     "output_type": "stream",
     "text": [
      "Training set size: 80668\n",
      "Test set size: 20168\n",
      "Number of user:  610 \n",
      "\n"
     ]
    },
    {
     "data": {
      "text/html": [
       "<div>\n",
       "<style scoped>\n",
       "    .dataframe tbody tr th:only-of-type {\n",
       "        vertical-align: middle;\n",
       "    }\n",
       "\n",
       "    .dataframe tbody tr th {\n",
       "        vertical-align: top;\n",
       "    }\n",
       "\n",
       "    .dataframe thead th {\n",
       "        text-align: right;\n",
       "    }\n",
       "</style>\n",
       "<table border=\"1\" class=\"dataframe\">\n",
       "  <thead>\n",
       "    <tr style=\"text-align: right;\">\n",
       "      <th></th>\n",
       "      <th>userId</th>\n",
       "      <th>movieId</th>\n",
       "      <th>rating</th>\n",
       "      <th>timestamp</th>\n",
       "    </tr>\n",
       "  </thead>\n",
       "  <tbody>\n",
       "    <tr>\n",
       "      <th>0</th>\n",
       "      <td>1</td>\n",
       "      <td>1</td>\n",
       "      <td>4.0</td>\n",
       "      <td>964982703</td>\n",
       "    </tr>\n",
       "    <tr>\n",
       "      <th>1</th>\n",
       "      <td>1</td>\n",
       "      <td>3</td>\n",
       "      <td>4.0</td>\n",
       "      <td>964981247</td>\n",
       "    </tr>\n",
       "    <tr>\n",
       "      <th>2</th>\n",
       "      <td>1</td>\n",
       "      <td>6</td>\n",
       "      <td>4.0</td>\n",
       "      <td>964982224</td>\n",
       "    </tr>\n",
       "    <tr>\n",
       "      <th>3</th>\n",
       "      <td>1</td>\n",
       "      <td>47</td>\n",
       "      <td>5.0</td>\n",
       "      <td>964983815</td>\n",
       "    </tr>\n",
       "    <tr>\n",
       "      <th>4</th>\n",
       "      <td>1</td>\n",
       "      <td>50</td>\n",
       "      <td>5.0</td>\n",
       "      <td>964982931</td>\n",
       "    </tr>\n",
       "  </tbody>\n",
       "</table>\n",
       "</div>"
      ],
      "text/plain": [
       "   userId  movieId  rating  timestamp\n",
       "0       1        1     4.0  964982703\n",
       "1       1        3     4.0  964981247\n",
       "2       1        6     4.0  964982224\n",
       "3       1       47     5.0  964983815\n",
       "4       1       50     5.0  964982931"
      ]
     },
     "execution_count": 18,
     "metadata": {},
     "output_type": "execute_result"
    }
   ],
   "source": [
    "from __future__ import print_function\n",
    "import numpy as np\n",
    "import pandas as pd\n",
    "from sklearn.utils import shuffle\n",
    "\n",
    "ratings = pd.read_csv('ml-latest-small/ratings.csv')\n",
    "#number of user\n",
    "n_users = ratings.userId.nunique()\n",
    "\n",
    "# Shuffle the ratings table\n",
    "data = shuffle(ratings)\n",
    "\n",
    "# Init ratio to split the data: 80%, 20%\n",
    "ratio = int(0.8*len(data))\n",
    "\n",
    "# Split into train_set and test_set\n",
    "train_set = data[:ratio].reset_index().drop('index', axis=1)\n",
    "test_set = data[ratio:].reset_index().drop('index', axis=1)\n",
    "\n",
    "train_set = train_set.astype(int).to_numpy()\n",
    "test_set = test_set.astype(int).to_numpy()\n",
    "\n",
    "print(\"Training set size:\", train_set.shape[0])\n",
    "print(\"Test set size:\", test_set.shape[0])\n",
    "print(\"Number of user: \", n_users ,\"\\n\")\n",
    "\n",
    "ratings.head()"
   ]
  },
  {
   "cell_type": "code",
   "execution_count": 2,
   "metadata": {
    "scrolled": true
   },
   "outputs": [
    {
     "name": "stdout",
     "output_type": "stream",
     "text": [
      "Number of movies: 9742\n"
     ]
    }
   ],
   "source": [
    "#Reading items file:\n",
    "movies = pd.read_csv('ml-latest-small/movies.csv') \n",
    "dummies = movies['genres'].str.get_dummies(sep='|')\n",
    "movies.drop('genres',inplace=True, axis = 1)\n",
    "movies = pd.concat([movies, dummies], axis=1)\n",
    "movies.rename(columns={'(no genres listed)':'Unknow'}, inplace=True)\n",
    "\n",
    "n_movies = movies.shape[0]\n",
    "print('Number of movies:', n_movies)"
   ]
  },
  {
   "cell_type": "markdown",
   "metadata": {},
   "source": [
    "Build feature vector by tf-idf"
   ]
  },
  {
   "cell_type": "code",
   "execution_count": 4,
   "metadata": {
    "scrolled": true
   },
   "outputs": [],
   "source": [
    "from sklearn.feature_extraction.text import TfidfTransformer\n",
    "\n",
    "X0 = movies.to_numpy()\n",
    "X_train_counts = X0[:, -20:]\n",
    "transformer = TfidfTransformer(smooth_idf=True, norm ='l2')\n",
    "#feature vector of each movies\n",
    "X = transformer.fit_transform(X_train_counts.tolist()).toarray()"
   ]
  },
  {
   "cell_type": "markdown",
   "metadata": {},
   "source": [
    "a matrix get items that rated by user"
   ]
  },
  {
   "cell_type": "code",
   "execution_count": 5,
   "metadata": {},
   "outputs": [],
   "source": [
    "movies_idList = movies.movieId.astype(int).to_numpy()"
   ]
  },
  {
   "cell_type": "code",
   "execution_count": 6,
   "metadata": {},
   "outputs": [],
   "source": [
    "def get_items_rated_by_user(rate_matrix, user_id):\n",
    "  \n",
    "    y = rate_matrix[:,0] # all users\n",
    "    \n",
    "    #list of user in rate matrix\n",
    "    ids = np.where(y == user_id +1)[0] \n",
    "    \n",
    "    #list of movie that user 'ids' rate\n",
    "    movie_ids = rate_matrix[ids, 1] \n",
    "    #return index of movie\n",
    "    \n",
    "    movie_index = np.empty(len(movie_ids),dtype = int)\n",
    "    for i in range (len(movie_ids)):\n",
    "        movie_index[i] = (np.where(movies_idList == movie_ids[i])[0][0]) \n",
    "    #and score for each movie that user 'ids' rate\n",
    "    scores = rate_matrix[ids, 2]\n",
    "    \n",
    "    return (movie_index, scores)"
   ]
  },
  {
   "cell_type": "markdown",
   "metadata": {},
   "source": [
    "build model"
   ]
  },
  {
   "cell_type": "code",
   "execution_count": 7,
   "metadata": {
    "scrolled": false
   },
   "outputs": [],
   "source": [
    "from sklearn.linear_model import Ridge\n",
    "from sklearn import linear_model\n",
    "\n",
    "d = X.shape[1] # data dimension\n",
    "W = np.zeros((d, n_users))\n",
    "b = np.zeros(n_users)\n",
    "\n",
    "for n in range(n_users):    \n",
    "    ids, scores = get_items_rated_by_user(train_set, n)\n",
    "    model = Ridge(alpha=0.01, fit_intercept  = True)\n",
    "    Xhat = X[ids, :]\n",
    "    model.fit(Xhat, scores) \n",
    "    W[:, n] = model.coef_\n",
    "    b[n] = model.intercept_\n"
   ]
  },
  {
   "cell_type": "code",
   "execution_count": 9,
   "metadata": {},
   "outputs": [],
   "source": [
    "# predicted scores\n",
    "Yhat = X.dot(W) + b"
   ]
  },
  {
   "cell_type": "code",
   "execution_count": 14,
   "metadata": {
    "scrolled": true
   },
   "outputs": [
    {
     "name": "stdout",
     "output_type": "stream",
     "text": [
      "Rated movies ids : [   5  277 1209   97 1084 1071    9  176 1066  142]\n",
      "True ratings     : [5 4 4 5 5 1 3 3 3 4]\n",
      "Predicted ratings: [2.88 3.32 2.53 2.94 2.78 2.84 2.91 2.86 2.9  3.15]\n"
     ]
    }
   ],
   "source": [
    "#test for a user\n",
    "n = 103\n",
    "np.set_printoptions(precision=2) # 2 digits after . \n",
    "ids, scores = get_items_rated_by_user(test_set, 10)\n",
    "print('Rated movies ids :', ids )\n",
    "print('True ratings     :', scores)\n",
    "print('Predicted ratings:', Yhat[ids, n])"
   ]
  },
  {
   "cell_type": "code",
   "execution_count": 17,
   "metadata": {},
   "outputs": [
    {
     "name": "stdout",
     "output_type": "stream",
     "text": [
      "RMSE for training: 0.86\n",
      "RMSE for test    : 1.00\n"
     ]
    }
   ],
   "source": [
    "def evaluate(Yhat, rates, W, b):\n",
    "    se = 0\n",
    "    cnt = 0\n",
    "    for n in range(n_users):\n",
    "        ids, scores_truth = get_items_rated_by_user(rates, n)\n",
    "        scores_pred = Yhat[ids, n]\n",
    "        e = scores_truth - scores_pred \n",
    "        se += (e*e).sum(axis = 0)\n",
    "        cnt += e.size \n",
    "    return np.sqrt(se/cnt)\n",
    "\n",
    "print('RMSE for training: %.2f' %evaluate(Yhat, train_set, W, b))\n",
    "print('RMSE for test    : %.2f' %evaluate(Yhat, test_set, W, b))"
   ]
  }
 ],
 "metadata": {
  "kernelspec": {
   "display_name": "Python 3",
   "language": "python",
   "name": "python3"
  },
  "language_info": {
   "codemirror_mode": {
    "name": "ipython",
    "version": 3
   },
   "file_extension": ".py",
   "mimetype": "text/x-python",
   "name": "python",
   "nbconvert_exporter": "python",
   "pygments_lexer": "ipython3",
   "version": "3.8.3"
  }
 },
 "nbformat": 4,
 "nbformat_minor": 5
}
