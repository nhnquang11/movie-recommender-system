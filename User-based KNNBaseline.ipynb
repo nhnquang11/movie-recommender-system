{
 "cells": [
  {
   "cell_type": "code",
   "execution_count": 1,
   "metadata": {},
   "outputs": [],
   "source": [
    "import pandas as pd\n",
    "import numpy as np\n",
    "from sklearn.utils import shuffle\n",
    "from sortedcontainers import SortedList\n",
    "from IPython.display import clear_output"
   ]
  },
  {
   "cell_type": "code",
   "execution_count": 2,
   "metadata": {},
   "outputs": [],
   "source": [
    "# Load data\n",
    "movies = pd.read_csv('ml-latest-small/movies.csv')\n",
    "ratings = pd.read_csv('ml-latest-small/ratings.csv').drop('timestamp', axis=1)"
   ]
  },
  {
   "cell_type": "code",
   "execution_count": 3,
   "metadata": {},
   "outputs": [],
   "source": [
    "# Create a mapper from movieId to movie title\n",
    "movie2title = dict(zip(movies['movieId'], movies['title']))\n",
    "\n",
    "# Create a mapper from index to id\n",
    "user2idx = dict(zip(ratings['userId'].unique(), range(ratings['userId'].nunique())))\n",
    "movie2idx = dict(zip(ratings['movieId'].unique(), range(ratings['movieId'].nunique())))\n",
    "\n",
    "# Create a mapper from id to idex\n",
    "idx2user = dict(zip(range(ratings['userId'].nunique()), ratings['userId'].unique()))\n",
    "idx2movie = dict(zip(range(ratings['movieId'].nunique()), ratings['movieId'].unique()))\n",
    "\n",
    "# Convert id to index in dataframe\n",
    "ratings['userId'] = ratings['userId'].apply(lambda x: user2idx[x])\n",
    "ratings['movieId'] = ratings['movieId'].apply(lambda x: movie2idx[x])\n",
    "\n",
    "# Shuffle the ratings table\n",
    "data = shuffle(ratings)\n",
    "\n",
    "# Init ratio to split the data: 80%, 20%\n",
    "ratio = int(0.8*len(data))\n",
    "\n",
    "# Split into train_set and test_set\n",
    "train_set = data[:ratio].reset_index().drop('index', axis=1)\n",
    "test_set = data[ratio:].reset_index().drop('index', axis=1)"
   ]
  },
  {
   "cell_type": "code",
   "execution_count": 4,
   "metadata": {},
   "outputs": [
    {
     "name": "stdout",
     "output_type": "stream",
     "text": [
      "Training set size: 80668\n",
      "Test set size: 20168\n"
     ]
    }
   ],
   "source": [
    "print(\"Training set size:\", train_set.shape[0])\n",
    "print(\"Test set size:\", test_set.shape[0])"
   ]
  },
  {
   "cell_type": "code",
   "execution_count": 5,
   "metadata": {},
   "outputs": [],
   "source": [
    "# a dictionary tell us which users have rated which movies\n",
    "user2movie = {}\n",
    "\n",
    "# a dictionary tell us which movies have been rated by which users\n",
    "movie2user = {}\n",
    "\n",
    "# a dictionary to look up ratings based on userId and movieId\n",
    "usermovie2rating = {}\n",
    "\n",
    "for i in range(len(train_set)):\n",
    "    # user2movie\n",
    "    if train_set['userId'][i] not in user2movie:\n",
    "        user2movie[train_set['userId'][i]] = [train_set['movieId'][i]]\n",
    "    else:\n",
    "        user2movie[train_set['userId'][i]].append(train_set['movieId'][i])\n",
    "    \n",
    "    # movie2user\n",
    "    if train_set['movieId'][i] not in movie2user:\n",
    "        movie2user[train_set['movieId'][i]] = [train_set['userId'][i]]\n",
    "    else:\n",
    "        movie2user[train_set['movieId'][i]].append(train_set['userId'][i])\n",
    "        \n",
    "    # usermovie2rating\n",
    "    usermovie2rating[(train_set['userId'][i], train_set['movieId'][i])] = train_set['rating'][i]\n",
    "    \n",
    "# a dictionary to look up ratings based on userId and movieId (test set)\n",
    "usermovie2rating_test = {}\n",
    "\n",
    "for i in range(len(test_set)):\n",
    "    usermovie2rating_test[(test_set['userId'][i], test_set['movieId'][i])] = test_set['rating'][i]\n",
    "    \n",
    "# utility matrix\n",
    "U = train_set.pivot_table(values='rating', index='userId', columns='movieId') \n",
    "\n",
    "# to handle if training set doesn't have userId or movieId that test set has\n",
    "for userId in (set(test_set['userId']) - set(train_set['userId'])):\n",
    "    U.append(pd.Series(name=userId), ignore_index=False)\n",
    "for movieId in (set(test_set['movieId']) - set(train_set['movieId'])):\n",
    "    U[movieId] = np.nan\n",
    "\n",
    "# raw average rating (mean of all the ratings)\n",
    "r = train_set['rating'].mean()\n",
    "# movie bias\n",
    "b_i = U.mean() - r\n",
    "# user bias\n",
    "b_u = U.mean(axis=1) - r"
   ]
  },
  {
   "cell_type": "code",
   "execution_count": 6,
   "metadata": {},
   "outputs": [
    {
     "name": "stdout",
     "output_type": "stream",
     "text": [
      "Calculate k nearest neighbors for each user: 100.0%\n"
     ]
    }
   ],
   "source": [
    "def cosine_similarity(r1, r2):\n",
    "    \"\"\"Return the cosine similarity between two rating arrays\"\"\"\n",
    "    return (r1.dot(r2))/(np.linalg.norm(r1) * np.linalg.norm(r2)) \n",
    "\n",
    "k = 20 # number of nearest neighbors\n",
    "limit = 5 # number of movies users must have in common in order to consider\n",
    "n_users = ratings['userId'].nunique()\n",
    "neighbors = [] # to store neighbors\n",
    "\n",
    "for u in range(n_users):\n",
    "    # list of movies that user u has rated\n",
    "    movie_u = user2movie[u] \n",
    "    \n",
    "    # to store similarity between user u and other users\n",
    "    sim_list = SortedList()\n",
    "    \n",
    "    for v in range(n_users):\n",
    "        if u != v:\n",
    "            # list of movies that user u has rated\n",
    "            movie_v = user2movie[v]\n",
    "            \n",
    "            # list of common movies between user u and v\n",
    "            common = set(movie_u) & set(movie_v)\n",
    "            \n",
    "            if len(common) > limit:\n",
    "                # users' rating vector \n",
    "                r_u = np.array([usermovie2rating[(u, i)] for i in common])\n",
    "                r_v = np.array([usermovie2rating[(v, i)] for i in common])\n",
    "                \n",
    "                \n",
    "                # similarity between user u and v\n",
    "                sim_uv = cosine_similarity(r_u, r_v)\n",
    "                \n",
    "                # only add positive similarity\n",
    "                if sim_uv > 0:\n",
    "                    sim_list.add((-sim_uv, v))\n",
    "                    \n",
    "    neighbors.append(sim_list)\n",
    "    \n",
    "    clear_output(wait=True)\n",
    "    print('Calculate k nearest neighbors for each user: ' + str(round(((u+1)/n_users)*100, 2)) + '%')"
   ]
  },
  {
   "cell_type": "code",
   "execution_count": 7,
   "metadata": {},
   "outputs": [],
   "source": [
    "def predict(u, i):\n",
    "    # base line prediction\n",
    "    b_ui = r + b_i[i] + b_u[u]\n",
    "    \n",
    "    # to calculate number of neighbors \n",
    "    count_k = 0\n",
    "    \n",
    "    # innit numerator and denominator of the bias\n",
    "    numerator = 0\n",
    "    denominator = 0\n",
    "    for neg_sim_uv, v in neighbors[u]:\n",
    "        if count_k < k:\n",
    "            try:\n",
    "                b_vi = r + b_i[i] + b_u[v]\n",
    "                numerator += (-neg_sim_uv * (usermovie2rating[(v, i)] - b_vi))\n",
    "                denominator += (-neg_sim_uv)\n",
    "                count_k += 1\n",
    "            except:\n",
    "                pass\n",
    "    \n",
    "    # in case there is no neighbor for user u, just use the baseline prediction\n",
    "    if denominator == 0:\n",
    "        prediction = r + b_i[i] + b_u[u]\n",
    "    else:\n",
    "        prediction = b_ui + numerator / denominator\n",
    "    \n",
    "    # incase the prediction is out of scale\n",
    "    prediction = min(5, prediction)\n",
    "    prediction = max(0.5, prediction)    \n",
    "    \n",
    "    return prediction    "
   ]
  },
  {
   "cell_type": "code",
   "execution_count": 8,
   "metadata": {},
   "outputs": [
    {
     "name": "stdout",
     "output_type": "stream",
     "text": [
      "Calculate prediction for training set: 100.0%\n"
     ]
    }
   ],
   "source": [
    "# use to evaluate performance on training set\n",
    "train_prediction = []\n",
    "train_actual_rating = []\n",
    "\n",
    "# use to display status bar\n",
    "c = 0\n",
    "C = len(usermovie2rating)\n",
    "\n",
    "for (u, i), rating in usermovie2rating.items():\n",
    "    c += 1\n",
    "    # add actual rating to list\n",
    "    train_actual_rating.append(rating)\n",
    "    \n",
    "    # add predicted rating to list\n",
    "    train_prediction.append(predict(u, i))\n",
    "    \n",
    "    clear_output(wait=True)\n",
    "    print('Calculate prediction for training set: ' + str(round(((c+1)/C)*100, 2)) + '%')"
   ]
  },
  {
   "cell_type": "code",
   "execution_count": 9,
   "metadata": {},
   "outputs": [
    {
     "name": "stdout",
     "output_type": "stream",
     "text": [
      "Calculate prediction for test set: 100.0%\n"
     ]
    }
   ],
   "source": [
    "# use to evaluate performance on test set\n",
    "test_prediction = []\n",
    "test_actual_rating = []\n",
    "\n",
    "# use to display status bar\n",
    "c = 0\n",
    "C = len(usermovie2rating_test)\n",
    "\n",
    "for (u, i), rating in usermovie2rating_test.items():\n",
    "    c += 1\n",
    "    # add actual rating to list\n",
    "    test_actual_rating.append(rating)\n",
    "    \n",
    "    # add predicted rating to list\n",
    "    test_prediction.append(predict(u, i))\n",
    "    \n",
    "    clear_output(wait=True)\n",
    "    print('Calculate prediction for test set: ' + str(round(((c+1)/C)*100, 2)) + '%')"
   ]
  },
  {
   "cell_type": "code",
   "execution_count": 10,
   "metadata": {},
   "outputs": [
    {
     "name": "stdout",
     "output_type": "stream",
     "text": [
      "Training rmse: 0.8359563697536861\n",
      "Test rmse: 0.9688988492394248\n"
     ]
    }
   ],
   "source": [
    "def rmse(x1, x2):\n",
    "    x1 = np.array(x1)\n",
    "    x2 = np.array(x2)\n",
    "    return np.sqrt(np.mean((x1 - x2) ** 2))\n",
    "\n",
    "print(\"Training rmse:\", rmse(train_actual_rating, train_prediction))\n",
    "print(\"Test rmse:\", rmse(test_actual_rating, test_prediction))"
   ]
  },
  {
   "cell_type": "code",
   "execution_count": 11,
   "metadata": {},
   "outputs": [],
   "source": [
    "def get_recommendation(u):\n",
    "    # list of movieId that user u hasn't watched yet\n",
    "    movie_u = set(ratings['movieId']) - set(train_set[train_set['userId'] == u]['movieId'].unique())\n",
    "    \n",
    "    # list of prediction\n",
    "    candidate = SortedList()\n",
    "    \n",
    "    # use to display status bar\n",
    "    c = 0\n",
    "    C = len(movie_u)\n",
    "    \n",
    "    for i in movie_u:\n",
    "        c += 1\n",
    "        prediction = predict(u, i)\n",
    "        candidate.add((-prediction, i))\n",
    "        \n",
    "        clear_output(wait=True)\n",
    "        print(str(round(((c+1)/C)*100, 2)) + '%')\n",
    "    \n",
    "    clear_output(wait=True)\n",
    "    # print top 10 recommendation for user u\n",
    "    print(\"Recommendation for user \" + str(u) + \":\")\n",
    "    print(\"____________________________________________________________\")\n",
    "    for (p, i) in candidate[:10]:\n",
    "        print(movie2title[idx2movie[i]])"
   ]
  },
  {
   "cell_type": "code",
   "execution_count": 12,
   "metadata": {},
   "outputs": [
    {
     "name": "stdout",
     "output_type": "stream",
     "text": [
      "Recommendation for user 2:\n",
      "____________________________________________________________\n",
      "Galaxy of Terror (Quest) (1981)\n",
      "Master of the Flying Guillotine (Du bi quan wang da po xue di zi) (1975)\n",
      "Nobody Loves Me (Keiner liebt mich) (1994)\n",
      "Cure, The (1995)\n",
      "Gordy (1995)\n",
      "Rent-a-Kid (1995)\n",
      "The Hundred-Foot Journey (2014)\n",
      "Green Butchers, The (Grønne slagtere, De) (2003)\n",
      "Mesrine: Killer Instinct (L'instinct de mort) (2008)\n",
      "White Ribbon, The (Das weiße Band) (2009)\n"
     ]
    }
   ],
   "source": [
    "get_recommendation(2)"
   ]
  }
 ],
 "metadata": {
  "kernelspec": {
   "display_name": "Python 3",
   "language": "python",
   "name": "python3"
  },
  "language_info": {
   "codemirror_mode": {
    "name": "ipython",
    "version": 3
   },
   "file_extension": ".py",
   "mimetype": "text/x-python",
   "name": "python",
   "nbconvert_exporter": "python",
   "pygments_lexer": "ipython3",
   "version": "3.8.3"
  }
 },
 "nbformat": 4,
 "nbformat_minor": 4
}
